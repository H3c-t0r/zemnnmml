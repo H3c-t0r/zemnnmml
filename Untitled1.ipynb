{
 "cells": [
  {
   "cell_type": "code",
   "execution_count": 1,
   "id": "b4609347-4f9b-4432-8fbb-c6e76b548e89",
   "metadata": {},
   "outputs": [
    {
     "data": {
      "application/vnd.jupyter.widget-view+json": {
       "model_id": "3062a01dd36943c18509c82f95c21d42",
       "version_major": 2,
       "version_minor": 0
      },
      "text/plain": [
       "Label(value='')"
      ]
     },
     "metadata": {},
     "output_type": "display_data"
    },
    {
     "data": {
      "application/vnd.jupyter.widget-view+json": {
       "model_id": "103714372b4749dfb45fd6be02d6a199",
       "version_major": 2,
       "version_minor": 0
      },
      "text/plain": [
       "HBox(children=(Button(description='positive', style=ButtonStyle()), Button(description='negative', style=Butto…"
      ]
     },
     "metadata": {},
     "output_type": "display_data"
    },
    {
     "data": {
      "application/vnd.jupyter.widget-view+json": {
       "model_id": "e6ccec8d7dc04e74944f3e1ef1e972b6",
       "version_major": 2,
       "version_minor": 0
      },
      "text/plain": [
       "Output()"
      ]
     },
     "metadata": {},
     "output_type": "display_data"
    }
   ],
   "source": [
    "from zenml.client import Client\n",
    "\n",
    "annotator = Client().active_stack.annotator\n",
    "\n",
    "annotations = annotator.launch(data=['I love this movie', 'I was really disappointed by the book'], options=['positive', 'negative'])"
   ]
  },
  {
   "cell_type": "code",
   "execution_count": null,
   "id": "2193dfc4-0baa-4dc3-98e6-7cc70bc147ca",
   "metadata": {},
   "outputs": [],
   "source": [
    "annotations"
   ]
  },
  {
   "cell_type": "code",
   "execution_count": null,
   "id": "d9845798-7d46-4fbe-b6ea-5d8346b35931",
   "metadata": {},
   "outputs": [],
   "source": [
    "from zenml.client import Client\n",
    "from IPython.display import display, Image\n",
    "annotator = Client().active_stack.annotator\n",
    "\n",
    "annotations = annotator.launch(data=['/Users/strickvl/Desktop/pigeon.png', '/Users/strickvl/Desktop/CleanShot 2024-04-24 at 16.02.20@2x.png'], options=['cat', 'dog'], display_fn=lambda filename: display(Image(filename)))\n",
    "\n",
    "# annotations = annotate(\n",
    "#   ['assets/pigeon.png', 'assets/pigeon.png'],\n",
    "#   options=['cat', 'dog', 'horse'],\n",
    "#   display_fn=lambda filename: display(Image(filename))\n",
    "# )"
   ]
  },
  {
   "cell_type": "code",
   "execution_count": null,
   "id": "fc567f65-7ab1-45de-b4a8-c3fe69cdfa65",
   "metadata": {},
   "outputs": [],
   "source": [
    "annotations"
   ]
  },
  {
   "cell_type": "code",
   "execution_count": null,
   "id": "5f4b6a19-e2de-4fbe-bd03-11264113e207",
   "metadata": {},
   "outputs": [],
   "source": []
  }
 ],
 "metadata": {
  "kernelspec": {
   "display_name": "Python 3 (ipykernel)",
   "language": "python",
   "name": "python3"
  },
  "language_info": {
   "codemirror_mode": {
    "name": "ipython",
    "version": 3
   },
   "file_extension": ".py",
   "mimetype": "text/x-python",
   "name": "python",
   "nbconvert_exporter": "python",
   "pygments_lexer": "ipython3",
   "version": "3.10.12"
  }
 },
 "nbformat": 4,
 "nbformat_minor": 5
}
