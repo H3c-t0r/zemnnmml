{
 "cells": [
  {
   "cell_type": "markdown",
   "id": "fb389fcf",
   "metadata": {},
   "source": [
    "# Caching\n",
    "\n",
    "Caching is an important feature of any machine learning pipeline. Through caching we make sure that the artifacts that a step produces can be reused in a consecutive pipeline run, thus saving time and energy. However it is important to understand how this caching works, how to disable it and when it is invalidated.\n",
    "\n",
    "Lets start and get all the imports out of the way:"
   ]
  },
  {
   "cell_type": "code",
   "execution_count": 1,
   "id": "aa7280ab",
   "metadata": {},
   "outputs": [],
   "source": [
    "%%capture\n",
    "!pip install zenml rich"
   ]
  },
  {
   "cell_type": "code",
   "execution_count": 2,
   "id": "56d4cbe0",
   "metadata": {},
   "outputs": [],
   "source": [
    "import random\n",
    "import time\n",
    "\n",
    "from rich.console import Console\n",
    "\n",
    "from zenml.pipelines import pipeline\n",
    "from zenml.steps import BaseStepConfig, Output, step\n",
    "\n",
    "console = Console()"
   ]
  },
  {
   "cell_type": "markdown",
   "id": "d7abf25b",
   "metadata": {},
   "source": [
    "To learn more about caching we will create a very basic pipeline that takes one random number, subtracts a user-configured number from it and prints the result. Simple as can be."
   ]
  },
  {
   "cell_type": "markdown",
   "id": "5a3a00ce",
   "metadata": {},
   "source": [
    "## The first step will simply create a random float and return it"
   ]
  },
  {
   "cell_type": "code",
   "execution_count": 3,
   "id": "d9bbc311",
   "metadata": {},
   "outputs": [],
   "source": [
    "@step\n",
    "def create_data() -> Output(random_data=float):\n",
    "    \"\"\"Create an array of random data 0 <= elements <= 1. \n",
    "    \n",
    "    Returns:\n",
    "        Random float between 0 and 1\n",
    "    \"\"\"\n",
    "    random_data = random.random()\n",
    "    return random_data"
   ]
  },
  {
   "cell_type": "markdown",
   "id": "636d1dd9",
   "metadata": {},
   "source": [
    "## The second step subtracts a user defined float from the first number\n",
    "\n",
    "See the tutorial on [StepConfigurations](tbd) to learn more on how to use step configurations."
   ]
  },
  {
   "cell_type": "code",
   "execution_count": 4,
   "id": "62a2c868",
   "metadata": {},
   "outputs": [],
   "source": [
    "class TransformerConfig(BaseStepConfig):\n",
    "    \"\"\"Transformer params\n",
    "\n",
    "    Params:\n",
    "        subtrahend - Amount to be subtracted from the input_data array\n",
    "    \"\"\"\n",
    "\n",
    "    subtrahend: float = 0.5\n",
    "        \n",
    "@step  \n",
    "def transform_data(\n",
    "    config: TransformerConfig,\n",
    "    random_data: float\n",
    ") -> Output(transformed_data=float):\n",
    "    \"\"\"Subtract subtrahend from random_data - we added a sleep in this function to simulate a\n",
    "    complex data transformation step\n",
    "    \n",
    "    Args:\n",
    "        config - TransformerConfig that specifies the subtrahend for the transformer\n",
    "        random_data - random data to be transformed\n",
    "        \n",
    "    Returns:\n",
    "        The random_data minus the subtrahend specified in the config\n",
    "    \"\"\"\n",
    "    time.sleep(10)\n",
    "\n",
    "    transformed_data = random_data - config.subtrahend\n",
    "    return transformed_data"
   ]
  },
  {
   "cell_type": "markdown",
   "id": "f7959940",
   "metadata": {},
   "source": [
    "## Finally the third step prints the result"
   ]
  },
  {
   "cell_type": "code",
   "execution_count": 5,
   "id": "af2dfa65",
   "metadata": {},
   "outputs": [],
   "source": [
    "@step\n",
    "def print_data(\n",
    "    transformed_data: float\n",
    ") -> None:\n",
    "    \"\"\"Print resulting data array\"\"\"\n",
    "    console.print(f\"The pipeline produced the following number: {transformed_data}\", style=\"bold red\")"
   ]
  },
  {
   "cell_type": "markdown",
   "id": "0a5f1e77",
   "metadata": {},
   "source": [
    "## Lets connect our steps with a ZenML pipeline and instatiate "
   ]
  },
  {
   "cell_type": "code",
   "execution_count": 6,
   "id": "9db0cb85",
   "metadata": {},
   "outputs": [],
   "source": [
    "# Define how data flows through steps\n",
    "@pipeline\n",
    "def transformer_pipeline(\n",
    "    create_data,\n",
    "    transform_data,\n",
    "    print_data\n",
    "):\n",
    "    # Define how data flows through the steps of the pipeline\n",
    "    rand_arr = create_data()\n",
    "    transformed_arr = transform_data(rand_arr)\n",
    "    print_data(transformed_arr)"
   ]
  },
  {
   "cell_type": "code",
   "execution_count": 7,
   "id": "bc72cf22",
   "metadata": {},
   "outputs": [
    {
     "data": {
      "text/html": [
       "<pre style=\"white-space:pre;overflow-x:auto;line-height:normal;font-family:Menlo,'DejaVu Sans Mono',consolas,'Courier New',monospace\"><span style=\"text-decoration: underline\">First Pipeline Run</span> \n",
       " \n",
       "\n",
       "</pre>\n"
      ],
      "text/plain": [
       "\u001b[4mFirst Pipeline Run\u001b[0m \n",
       " \n",
       "\n"
      ]
     },
     "metadata": {},
     "output_type": "display_data"
    },
    {
     "name": "stdout",
     "output_type": "stream",
     "text": [
      "\u001b[1;35mCreating run for pipeline: `\u001b[0m\u001b[33;21mtransformer_pipeline`\u001b[1;35m\u001b[0m\n",
      "\u001b[1;35mCache enabled for pipeline `\u001b[0m\u001b[33;21mtransformer_pipeline`\u001b[1;35m\u001b[0m\n",
      "\u001b[1;35mUsing stack `\u001b[0m\u001b[33;21msecrets_stack2`\u001b[1;35m to run pipeline `\u001b[0m\u001b[33;21mtransformer_pipeline`\u001b[1;35m...\u001b[0m\n",
      "\u001b[1;35mStep `\u001b[0m\u001b[33;21mcreate_data`\u001b[1;35m has started.\u001b[0m\n",
      "\u001b[1;35mUsing cached version of `\u001b[0m\u001b[33;21mcreate_data`\u001b[1;35m [`\u001b[0m\u001b[33;21mcreate_data`\u001b[1;35m] from pipeline_run_id `\u001b[0m\u001b[33;21mtransformer_pipeline-01_Apr_22-12_03_25_054987`\u001b[1;35m.\u001b[0m\n",
      "\u001b[1;35mStep `\u001b[0m\u001b[33;21mcreate_data`\u001b[1;35m has finished in 0.070s.\u001b[0m\n",
      "\u001b[1;35mStep `\u001b[0m\u001b[33;21mtransform_data`\u001b[1;35m has started.\u001b[0m\n",
      "\u001b[1;35mStep `\u001b[0m\u001b[33;21mtransform_data`\u001b[1;35m has finished in 10.157s.\u001b[0m\n",
      "\u001b[1;35mStep `\u001b[0m\u001b[33;21mprint_data`\u001b[1;35m has started.\u001b[0m\n"
     ]
    },
    {
     "data": {
      "text/html": [
       "<pre style=\"white-space:pre;overflow-x:auto;line-height:normal;font-family:Menlo,'DejaVu Sans Mono',consolas,'Courier New',monospace\"><span style=\"color: #800000; text-decoration-color: #800000; font-weight: bold\">The pipeline produced the following number: </span><span style=\"color: #008080; text-decoration-color: #008080; font-weight: bold\">-0.054100406632517806</span>\n",
       "</pre>\n"
      ],
      "text/plain": [
       "\u001b[1;31mThe pipeline produced the following number: \u001b[0m\u001b[1;36m-0.054100406632517806\u001b[0m\n"
      ]
     },
     "metadata": {},
     "output_type": "display_data"
    },
    {
     "name": "stdout",
     "output_type": "stream",
     "text": [
      "\u001b[1;35mStep `\u001b[0m\u001b[33;21mprint_data`\u001b[1;35m has finished in 0.158s.\u001b[0m\n",
      "\u001b[1;35mPipeline run `\u001b[0m\u001b[33;21mtransformer_pipeline-01_Apr_22-12_03_25_054987`\u001b[1;35m has finished in 10.401s.\u001b[0m\n"
     ]
    },
    {
     "data": {
      "text/html": [
       "<pre style=\"white-space:pre;overflow-x:auto;line-height:normal;font-family:Menlo,'DejaVu Sans Mono',consolas,'Courier New',monospace\">\n",
       " \n",
       " <span style=\"text-decoration: underline\">Second Pipeline Run</span> \n",
       " \n",
       "\n",
       "</pre>\n"
      ],
      "text/plain": [
       "\n",
       " \n",
       " \u001b[4mSecond Pipeline Run\u001b[0m \n",
       " \n",
       "\n"
      ]
     },
     "metadata": {},
     "output_type": "display_data"
    },
    {
     "name": "stdout",
     "output_type": "stream",
     "text": [
      "\u001b[1;35mCreating run for pipeline: `\u001b[0m\u001b[33;21mtransformer_pipeline`\u001b[1;35m\u001b[0m\n",
      "\u001b[1;35mCache enabled for pipeline `\u001b[0m\u001b[33;21mtransformer_pipeline`\u001b[1;35m\u001b[0m\n",
      "\u001b[1;35mUsing stack `\u001b[0m\u001b[33;21msecrets_stack2`\u001b[1;35m to run pipeline `\u001b[0m\u001b[33;21mtransformer_pipeline`\u001b[1;35m...\u001b[0m\n",
      "\u001b[1;35mStep `\u001b[0m\u001b[33;21mcreate_data`\u001b[1;35m has started.\u001b[0m\n",
      "\u001b[1;35mUsing cached version of `\u001b[0m\u001b[33;21mcreate_data`\u001b[1;35m [`\u001b[0m\u001b[33;21mcreate_data`\u001b[1;35m] from pipeline_run_id `\u001b[0m\u001b[33;21mtransformer_pipeline-01_Apr_22-12_03_36_029006`\u001b[1;35m.\u001b[0m\n",
      "\u001b[1;35mStep `\u001b[0m\u001b[33;21mcreate_data`\u001b[1;35m has finished in 0.079s.\u001b[0m\n",
      "\u001b[1;35mStep `\u001b[0m\u001b[33;21mtransform_data`\u001b[1;35m has started.\u001b[0m\n",
      "\u001b[1;35mUsing cached version of `\u001b[0m\u001b[33;21mtransform_data`\u001b[1;35m [`\u001b[0m\u001b[33;21mtransform_data`\u001b[1;35m] from pipeline_run_id `\u001b[0m\u001b[33;21mtransformer_pipeline-01_Apr_22-12_03_36_029006`\u001b[1;35m.\u001b[0m\n",
      "\u001b[1;35mStep `\u001b[0m\u001b[33;21mtransform_data`\u001b[1;35m has finished in 0.094s.\u001b[0m\n",
      "\u001b[1;35mStep `\u001b[0m\u001b[33;21mprint_data`\u001b[1;35m has started.\u001b[0m\n",
      "\u001b[1;35mUsing cached version of `\u001b[0m\u001b[33;21mprint_data`\u001b[1;35m [`\u001b[0m\u001b[33;21mprint_data`\u001b[1;35m] from pipeline_run_id `\u001b[0m\u001b[33;21mtransformer_pipeline-01_Apr_22-12_03_36_029006`\u001b[1;35m.\u001b[0m\n",
      "\u001b[1;35mStep `\u001b[0m\u001b[33;21mprint_data`\u001b[1;35m has finished in 0.095s.\u001b[0m\n",
      "\u001b[1;35mPipeline run `\u001b[0m\u001b[33;21mtransformer_pipeline-01_Apr_22-12_03_36_029006`\u001b[1;35m has finished in 0.284s.\u001b[0m\n"
     ]
    }
   ],
   "source": [
    "config_subtrahend = random.random()\n",
    "\n",
    "console.print('[u]First Pipeline Run[/u] \\n \\n')\n",
    "# Define which step functions implement the pipeline steps and create\n",
    "#  a pipeline instance\n",
    "pipeline_instance = transformer_pipeline(\n",
    "    create_data=create_data(),\n",
    "    transform_data=transform_data(\n",
    "        TransformerConfig(subtrahend=config_subtrahend)),\n",
    "    print_data=print_data()\n",
    ")\n",
    "pipeline_instance.run()\n",
    "\n",
    "console.print('\\n \\n [u]Second Pipeline Run[/u] \\n \\n')\n",
    "# Define which step functions implement the pipeline steps and create\n",
    "#  a pipeline instance\n",
    "pipeline_instance_2 = transformer_pipeline(\n",
    "    create_data=create_data(),\n",
    "    transform_data=transform_data(\n",
    "        TransformerConfig(subtrahend=config_subtrahend)),\n",
    "    print_data=print_data()\n",
    ")\n",
    "pipeline_instance_2.run()"
   ]
  },
  {
   "cell_type": "markdown",
   "id": "8ccadfdc",
   "metadata": {},
   "source": [
    "If you ran this notebook for the first time, the first pipeline run should have taken significantly longer than the second run. In the second run none of the steps were run as the cached values could be taken for every step.\n",
    "\n",
    "!!! Note: The last step also didn't run so the resulting value was not printed - this is not what we want, we'll have to disable cache for the last step for the pipeline to behave as expected. Find out how to do this and many more things below."
   ]
  },
  {
   "cell_type": "markdown",
   "id": "fde93d85",
   "metadata": {},
   "source": [
    "## Try it for yourself - here's five ways to disable/invalidate cache\n",
    "\n",
    "Caching is an amazing tool, but its important to know when its happening and to have fine grained control over it.\n",
    "\n",
    "Here are some ways in which you can disable caching - feel free to apply them above and rerun the pipeline_instances to familiarize yourself and to see the effects for yourself.\n",
    "\n",
    "\n",
    "### 1. Disable caching on a step level using the **step decorator**:\n",
    "\n",
    "```python\n",
    "@step(enable_cache=False)\n",
    "```\n",
    "\n",
    "### 2. Disable caching for the whole pipeline through the **pipeline decorator**:\n",
    "\n",
    "```python\n",
    "@pipeline(enable_cache=False)\n",
    "```\n",
    "\n",
    "### 3. Invalidate cache by **changing the code** within a step\n",
    "\n",
    "Make a change in any piece of code within a step and the cache for that step will be invalidated.\n",
    "\n",
    "For example replace the create_data code with this one:\n",
    "\n",
    "```python\n",
    "@step\n",
    "def create_data() -> Output(random_data=float):\n",
    "    \"\"\"Create an array of random data 0 <= elements <= 1. \n",
    "\n",
    "    Returns:\n",
    "        Random float between 0 and 1\n",
    "    \"\"\"\n",
    "    different_var_name = random.random()\n",
    "    return different_var_name\n",
    "```\n",
    "    \n",
    "\n",
    "### 4. Invalidate cache by changing a parameter within the **step configuration**\n",
    "\n",
    "For example you could change the subtrahend in the TransformerConfig of the second pipeline instance\n",
    "\n",
    "```python\n",
    "pipeline_instance_2 = transformer_pipeline(\n",
    "    create_data = create_data(),\n",
    "    transform_data = transform_data(TransformerConfig(subtrahend=0.8)),\n",
    "    print_data = print_data()\n",
    ")\n",
    "```\n",
    "\n",
    "### 5. Disable cache explicitly in the **runtime configuration**\n",
    "\n",
    "```python\n",
    "pipeline_instance_2.run(enable_cache=False)\n",
    "```"
   ]
  }
 ],
 "metadata": {
  "jupytext": {
   "cell_metadata_filter": "-all",
   "main_language": "python",
   "notebook_metadata_filter": "-all"
  },
  "kernelspec": {
   "display_name": "Python 3 (ipykernel)",
   "language": "python",
   "name": "python3"
  },
  "language_info": {
   "codemirror_mode": {
    "name": "ipython",
    "version": 3
   },
   "file_extension": ".py",
   "mimetype": "text/x-python",
   "name": "python",
   "nbconvert_exporter": "python",
   "pygments_lexer": "ipython3",
   "version": "3.8.10"
  }
 },
 "nbformat": 4,
 "nbformat_minor": 5
}
