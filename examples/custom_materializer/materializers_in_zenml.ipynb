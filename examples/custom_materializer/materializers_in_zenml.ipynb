{
 "cells": [
  {
   "cell_type": "markdown",
   "id": "1aabcc30",
   "metadata": {},
   "source": [
    "# Materializers\n",
    "\n",
    "The precise way that data passes between the steps is dictated by `materializers`. The data that flows through steps \n",
    "are stored as artifacts and artifacts are stored in artifact stores. The logic that governs the reading and writing of \n",
    "data to and from the artifact stores lives in the materializers. In order to control more precisely how data \n",
    "flows between steps, one can simply create a custom materializer by sub-classing the `BaseMaterializer` class.\n",
    "\n",
    "Materializers are also necessary when you want Custom objects to be passed between steps. Within this tutorial you'll learn how to build your own materializers."
   ]
  },
  {
   "cell_type": "code",
   "execution_count": 1,
   "id": "b8c7ed38",
   "metadata": {},
   "outputs": [],
   "source": [
    "%%capture\n",
    "!pip install zenml"
   ]
  },
  {
   "cell_type": "code",
   "execution_count": 2,
   "id": "81838f04",
   "metadata": {},
   "outputs": [],
   "source": [
    "import os\n",
    "from typing import Type\n",
    "\n",
    "from zenml.artifacts import DataArtifact\n",
    "from zenml.pipelines import pipeline\n",
    "from zenml.steps import step"
   ]
  },
  {
   "cell_type": "markdown",
   "id": "adc06e40",
   "metadata": {},
   "source": [
    "We'll start off with a custom class called `MyObj`. You can imagine this as a complex class that describes your training data with all its relevant metadata."
   ]
  },
  {
   "cell_type": "code",
   "execution_count": 3,
   "id": "72d00276",
   "metadata": {},
   "outputs": [],
   "source": [
    "class MyObj:\n",
    "    \"\"\"Your custom implementation of a data object\"\"\"\n",
    "    def __init__(self, name: str):\n",
    "        self.name = name"
   ]
  },
  {
   "cell_type": "markdown",
   "id": "51209601",
   "metadata": {},
   "source": [
    "Next we will construct a basic pipeline in which the an instance of this `MyObj` class is passed between the pipeline steps"
   ]
  },
  {
   "cell_type": "code",
   "execution_count": 4,
   "id": "d230ad0f",
   "metadata": {},
   "outputs": [],
   "source": [
    "@step\n",
    "def step1() -> MyObj:\n",
    "    \"\"\"Step that returns one of your data objects\"\"\"\n",
    "    return MyObj(\"aria_the_cat\")\n",
    "\n",
    "@step\n",
    "def step2(my_obj: MyObj):\n",
    "    \"\"\"Step that uses one of your data objects as input\"\"\"\n",
    "    print(my_obj.name)\n",
    "    \n",
    "@pipeline\n",
    "def pipe(step1, step2):\n",
    "    \"\"\"Connecting the steps together in a pipeline\"\"\"\n",
    "    custom_data_object = step1()\n",
    "    step2(custom_data_object)"
   ]
  },
  {
   "cell_type": "markdown",
   "id": "e448a1d1",
   "metadata": {},
   "source": [
    "Lets run this pipeline and see how it behaves when it does not know how to write and read the `MyObj`instance to and from the Artifact Store."
   ]
  },
  {
   "cell_type": "code",
   "execution_count": 5,
   "id": "faae474f",
   "metadata": {},
   "outputs": [
    {
     "name": "stdout",
     "output_type": "stream",
     "text": [
      "\u001b[1;35mCreating run for pipeline: `\u001b[0m\u001b[33;21mpipe`\u001b[1;35m\u001b[0m\n",
      "\u001b[1;35mCache enabled for pipeline `\u001b[0m\u001b[33;21mpipe`\u001b[1;35m\u001b[0m\n",
      "\u001b[1;35mUsing stack `\u001b[0m\u001b[33;21msecrets_stack2`\u001b[1;35m to run pipeline `\u001b[0m\u001b[33;21mpipe`\u001b[1;35m...\u001b[0m\n"
     ]
    },
    {
     "data": {
      "text/html": [
       "<pre style=\"white-space:pre;overflow-x:auto;line-height:normal;font-family:Menlo,'DejaVu Sans Mono',consolas,'Courier New',monospace\"><span style=\"color: #800000; text-decoration-color: #800000\">╭──────────────────────────── </span><span style=\"color: #800000; text-decoration-color: #800000; font-weight: bold\">Traceback </span><span style=\"color: #bf7f7f; text-decoration-color: #bf7f7f; font-weight: bold\">(most recent call last)</span><span style=\"color: #800000; text-decoration-color: #800000\"> ────────────────────────────╮</span>\n",
       "<span style=\"color: #800000; text-decoration-color: #800000\">│</span>                                                                                           <span style=\"color: #800000; text-decoration-color: #800000\">│</span>\n",
       "<span style=\"color: #800000; text-decoration-color: #800000\">│</span> <span style=\"color: #bfbf7f; text-decoration-color: #bfbf7f\">/tmp/ipykernel_340086/</span><span style=\"color: #808000; text-decoration-color: #808000; font-weight: bold\">1509130869.py</span>:<span style=\"color: #0000ff; text-decoration-color: #0000ff\">2</span> in <span style=\"color: #00ff00; text-decoration-color: #00ff00\">&lt;cell line: 2&gt;</span>                                   <span style=\"color: #800000; text-decoration-color: #800000\">│</span>\n",
       "<span style=\"color: #800000; text-decoration-color: #800000\">│</span>                                                                                           <span style=\"color: #800000; text-decoration-color: #800000\">│</span>\n",
       "<span style=\"color: #800000; text-decoration-color: #800000\">│</span> <span style=\"color: #800000; text-decoration-color: #800000; font-style: italic\">[Errno 2] No such file or directory: '/tmp/ipykernel_340086/1509130869.py'</span>                <span style=\"color: #800000; text-decoration-color: #800000\">│</span>\n",
       "<span style=\"color: #800000; text-decoration-color: #800000\">│</span> <span style=\"color: #bfbf7f; text-decoration-color: #bfbf7f\">/home/apenner/PycharmProjects/zenml/src/zenml/pipelines/</span><span style=\"color: #808000; text-decoration-color: #808000; font-weight: bold\">base_pipeline.py</span>:<span style=\"color: #0000ff; text-decoration-color: #0000ff\">378</span> in <span style=\"color: #00ff00; text-decoration-color: #00ff00\">run</span>       <span style=\"color: #800000; text-decoration-color: #800000\">│</span>\n",
       "<span style=\"color: #800000; text-decoration-color: #800000\">│</span>                                                                                           <span style=\"color: #800000; text-decoration-color: #800000\">│</span>\n",
       "<span style=\"color: #800000; text-decoration-color: #800000\">│</span>   <span style=\"color: #7f7f7f; text-decoration-color: #7f7f7f\">375 │   │   </span><span style=\"color: #00ffff; text-decoration-color: #00ffff\">self</span>._reset_step_flags()                                                    <span style=\"color: #800000; text-decoration-color: #800000\">│</span>\n",
       "<span style=\"color: #800000; text-decoration-color: #800000\">│</span>   <span style=\"color: #7f7f7f; text-decoration-color: #7f7f7f\">376 │   │   </span><span style=\"color: #00ffff; text-decoration-color: #00ffff\">self</span>.validate_stack(stack)                                                  <span style=\"color: #800000; text-decoration-color: #800000\">│</span>\n",
       "<span style=\"color: #800000; text-decoration-color: #800000\">│</span>   <span style=\"color: #7f7f7f; text-decoration-color: #7f7f7f\">377 │   │   </span>                                                                            <span style=\"color: #800000; text-decoration-color: #800000\">│</span>\n",
       "<span style=\"color: #800000; text-decoration-color: #800000\">│</span> <span style=\"color: #800000; text-decoration-color: #800000\">❱ </span>378 <span style=\"color: #7f7f7f; text-decoration-color: #7f7f7f\">│   │   </span><span style=\"color: #0000ff; text-decoration-color: #0000ff\">return</span> stack.deploy_pipeline(                                               <span style=\"color: #800000; text-decoration-color: #800000\">│</span>\n",
       "<span style=\"color: #800000; text-decoration-color: #800000\">│</span>   <span style=\"color: #7f7f7f; text-decoration-color: #7f7f7f\">379 │   │   │   </span><span style=\"color: #00ffff; text-decoration-color: #00ffff\">self</span>, runtime_configuration=runtime_configuration                       <span style=\"color: #800000; text-decoration-color: #800000\">│</span>\n",
       "<span style=\"color: #800000; text-decoration-color: #800000\">│</span>   <span style=\"color: #7f7f7f; text-decoration-color: #7f7f7f\">380 │   │   </span>)                                                                           <span style=\"color: #800000; text-decoration-color: #800000\">│</span>\n",
       "<span style=\"color: #800000; text-decoration-color: #800000\">│</span>   <span style=\"color: #7f7f7f; text-decoration-color: #7f7f7f\">381 </span>                                                                                    <span style=\"color: #800000; text-decoration-color: #800000\">│</span>\n",
       "<span style=\"color: #800000; text-decoration-color: #800000\">│</span>                                                                                           <span style=\"color: #800000; text-decoration-color: #800000\">│</span>\n",
       "<span style=\"color: #800000; text-decoration-color: #800000\">│</span> <span style=\"color: #bfbf7f; text-decoration-color: #bfbf7f\">/home/apenner/PycharmProjects/zenml/src/zenml/stack/</span><span style=\"color: #808000; text-decoration-color: #808000; font-weight: bold\">stack.py</span>:<span style=\"color: #0000ff; text-decoration-color: #0000ff\">361</span> in <span style=\"color: #00ff00; text-decoration-color: #00ff00\">deploy_pipeline</span>       <span style=\"color: #800000; text-decoration-color: #800000\">│</span>\n",
       "<span style=\"color: #800000; text-decoration-color: #800000\">│</span>                                                                                           <span style=\"color: #800000; text-decoration-color: #800000\">│</span>\n",
       "<span style=\"color: #800000; text-decoration-color: #800000\">│</span>   <span style=\"color: #7f7f7f; text-decoration-color: #7f7f7f\">358 │   │   </span>)                                                                           <span style=\"color: #800000; text-decoration-color: #800000\">│</span>\n",
       "<span style=\"color: #800000; text-decoration-color: #800000\">│</span>   <span style=\"color: #7f7f7f; text-decoration-color: #7f7f7f\">359 │   │   </span>start_time = time.time()                                                    <span style=\"color: #800000; text-decoration-color: #800000\">│</span>\n",
       "<span style=\"color: #800000; text-decoration-color: #800000\">│</span>   <span style=\"color: #7f7f7f; text-decoration-color: #7f7f7f\">360 │   │   </span>                                                                            <span style=\"color: #800000; text-decoration-color: #800000\">│</span>\n",
       "<span style=\"color: #800000; text-decoration-color: #800000\">│</span> <span style=\"color: #800000; text-decoration-color: #800000\">❱ </span>361 <span style=\"color: #7f7f7f; text-decoration-color: #7f7f7f\">│   │   </span>return_value = <span style=\"color: #00ffff; text-decoration-color: #00ffff\">self</span>.orchestrator.run_pipeline(                              <span style=\"color: #800000; text-decoration-color: #800000\">│</span>\n",
       "<span style=\"color: #800000; text-decoration-color: #800000\">│</span>   <span style=\"color: #7f7f7f; text-decoration-color: #7f7f7f\">362 │   │   │   </span>pipeline, stack=<span style=\"color: #00ffff; text-decoration-color: #00ffff\">self</span>, runtime_configuration=runtime_configuration       <span style=\"color: #800000; text-decoration-color: #800000\">│</span>\n",
       "<span style=\"color: #800000; text-decoration-color: #800000\">│</span>   <span style=\"color: #7f7f7f; text-decoration-color: #7f7f7f\">363 │   │   </span>)                                                                           <span style=\"color: #800000; text-decoration-color: #800000\">│</span>\n",
       "<span style=\"color: #800000; text-decoration-color: #800000\">│</span>   <span style=\"color: #7f7f7f; text-decoration-color: #7f7f7f\">364 </span>                                                                                    <span style=\"color: #800000; text-decoration-color: #800000\">│</span>\n",
       "<span style=\"color: #800000; text-decoration-color: #800000\">│</span>                                                                                           <span style=\"color: #800000; text-decoration-color: #800000\">│</span>\n",
       "<span style=\"color: #800000; text-decoration-color: #800000\">│</span> <span style=\"color: #bfbf7f; text-decoration-color: #bfbf7f\">/home/apenner/PycharmProjects/zenml/src/zenml/orchestrators/local/</span><span style=\"color: #808000; text-decoration-color: #808000; font-weight: bold\">local_orchestrator.py</span>:<span style=\"color: #0000ff; text-decoration-color: #0000ff\">8</span> <span style=\"color: #800000; text-decoration-color: #800000\">│</span>\n",
       "<span style=\"color: #800000; text-decoration-color: #800000\">│</span> <span style=\"color: #0000ff; text-decoration-color: #0000ff\">3</span> in <span style=\"color: #00ff00; text-decoration-color: #00ff00\">run_pipeline</span>                                                                         <span style=\"color: #800000; text-decoration-color: #800000\">│</span>\n",
       "<span style=\"color: #800000; text-decoration-color: #800000\">│</span>                                                                                           <span style=\"color: #800000; text-decoration-color: #800000\">│</span>\n",
       "<span style=\"color: #800000; text-decoration-color: #800000\">│</span>   <span style=\"color: #7f7f7f; text-decoration-color: #7f7f7f\"> 80 │   </span>) -&gt; Any:                                                                       <span style=\"color: #800000; text-decoration-color: #800000\">│</span>\n",
       "<span style=\"color: #800000; text-decoration-color: #800000\">│</span>   <span style=\"color: #7f7f7f; text-decoration-color: #7f7f7f\"> 81 │   │   </span><span style=\"color: #808000; text-decoration-color: #808000\">\"\"\"Runs a pipeline locally\"\"\"</span>                                               <span style=\"color: #800000; text-decoration-color: #800000\">│</span>\n",
       "<span style=\"color: #800000; text-decoration-color: #800000\">│</span>   <span style=\"color: #7f7f7f; text-decoration-color: #7f7f7f\"> 82 │   │   </span>                                                                            <span style=\"color: #800000; text-decoration-color: #800000\">│</span>\n",
       "<span style=\"color: #800000; text-decoration-color: #800000\">│</span> <span style=\"color: #800000; text-decoration-color: #800000\">❱ </span> 83 <span style=\"color: #7f7f7f; text-decoration-color: #7f7f7f\">│   │   </span>tfx_pipeline: TfxPipeline = create_tfx_pipeline(pipeline, stack=stack)      <span style=\"color: #800000; text-decoration-color: #800000\">│</span>\n",
       "<span style=\"color: #800000; text-decoration-color: #800000\">│</span>   <span style=\"color: #7f7f7f; text-decoration-color: #7f7f7f\"> 84 │   │   </span>                                                                            <span style=\"color: #800000; text-decoration-color: #800000\">│</span>\n",
       "<span style=\"color: #800000; text-decoration-color: #800000\">│</span>   <span style=\"color: #7f7f7f; text-decoration-color: #7f7f7f\"> 85 │   │   </span><span style=\"color: #0000ff; text-decoration-color: #0000ff\">if</span> runtime_configuration <span style=\"color: #ff00ff; text-decoration-color: #ff00ff\">is</span> <span style=\"color: #0000ff; text-decoration-color: #0000ff\">None</span>:                                           <span style=\"color: #800000; text-decoration-color: #800000\">│</span>\n",
       "<span style=\"color: #800000; text-decoration-color: #800000\">│</span>   <span style=\"color: #7f7f7f; text-decoration-color: #7f7f7f\"> 86 │   │   │   </span>runtime_configuration = RuntimeConfiguration()                          <span style=\"color: #800000; text-decoration-color: #800000\">│</span>\n",
       "<span style=\"color: #800000; text-decoration-color: #800000\">│</span>                                                                                           <span style=\"color: #800000; text-decoration-color: #800000\">│</span>\n",
       "<span style=\"color: #800000; text-decoration-color: #800000\">│</span> <span style=\"color: #bfbf7f; text-decoration-color: #bfbf7f\">/home/apenner/PycharmProjects/zenml/src/zenml/orchestrators/</span><span style=\"color: #808000; text-decoration-color: #808000; font-weight: bold\">utils.py</span>:<span style=\"color: #0000ff; text-decoration-color: #0000ff\">45</span> in                <span style=\"color: #800000; text-decoration-color: #800000\">│</span>\n",
       "<span style=\"color: #800000; text-decoration-color: #800000\">│</span> <span style=\"color: #00ff00; text-decoration-color: #00ff00\">create_tfx_pipeline</span>                                                                       <span style=\"color: #800000; text-decoration-color: #800000\">│</span>\n",
       "<span style=\"color: #800000; text-decoration-color: #800000\">│</span>                                                                                           <span style=\"color: #800000; text-decoration-color: #800000\">│</span>\n",
       "<span style=\"color: #800000; text-decoration-color: #800000\">│</span>   <span style=\"color: #7f7f7f; text-decoration-color: #7f7f7f\"> 42 </span>) -&gt; tfx_pipeline.Pipeline:                                                         <span style=\"color: #800000; text-decoration-color: #800000\">│</span>\n",
       "<span style=\"color: #800000; text-decoration-color: #800000\">│</span>   <span style=\"color: #7f7f7f; text-decoration-color: #7f7f7f\"> 43 │   </span><span style=\"color: #808000; text-decoration-color: #808000\">\"\"\"Creates a tfx pipeline from a ZenML pipeline.\"\"\"</span>                             <span style=\"color: #800000; text-decoration-color: #800000\">│</span>\n",
       "<span style=\"color: #800000; text-decoration-color: #800000\">│</span>   <span style=\"color: #7f7f7f; text-decoration-color: #7f7f7f\"> 44 │   # Connect the inputs/outputs of all steps in the pipeline</span>                       <span style=\"color: #800000; text-decoration-color: #800000\">│</span>\n",
       "<span style=\"color: #800000; text-decoration-color: #800000\">│</span> <span style=\"color: #800000; text-decoration-color: #800000\">❱ </span> 45 <span style=\"color: #7f7f7f; text-decoration-color: #7f7f7f\">│   </span>zenml_pipeline.connect(**zenml_pipeline.steps)                                  <span style=\"color: #800000; text-decoration-color: #800000\">│</span>\n",
       "<span style=\"color: #800000; text-decoration-color: #800000\">│</span>   <span style=\"color: #7f7f7f; text-decoration-color: #7f7f7f\"> 46 │   </span>                                                                                <span style=\"color: #800000; text-decoration-color: #800000\">│</span>\n",
       "<span style=\"color: #800000; text-decoration-color: #800000\">│</span>   <span style=\"color: #7f7f7f; text-decoration-color: #7f7f7f\"> 47 │   </span>tfx_components = [step.component <span style=\"color: #0000ff; text-decoration-color: #0000ff\">for</span> step <span style=\"color: #ff00ff; text-decoration-color: #ff00ff\">in</span> zenml_pipeline.steps.values()]     <span style=\"color: #800000; text-decoration-color: #800000\">│</span>\n",
       "<span style=\"color: #800000; text-decoration-color: #800000\">│</span>   <span style=\"color: #7f7f7f; text-decoration-color: #7f7f7f\"> 48 </span>                                                                                    <span style=\"color: #800000; text-decoration-color: #800000\">│</span>\n",
       "<span style=\"color: #800000; text-decoration-color: #800000\">│</span>                                                                                           <span style=\"color: #800000; text-decoration-color: #800000\">│</span>\n",
       "<span style=\"color: #800000; text-decoration-color: #800000\">│</span> <span style=\"color: #bfbf7f; text-decoration-color: #bfbf7f\">/tmp/ipykernel_340086/</span><span style=\"color: #808000; text-decoration-color: #808000; font-weight: bold\">3794570690.py</span>:<span style=\"color: #0000ff; text-decoration-color: #0000ff\">14</span> in <span style=\"color: #00ff00; text-decoration-color: #00ff00\">pipe</span>                                            <span style=\"color: #800000; text-decoration-color: #800000\">│</span>\n",
       "<span style=\"color: #800000; text-decoration-color: #800000\">│</span>                                                                                           <span style=\"color: #800000; text-decoration-color: #800000\">│</span>\n",
       "<span style=\"color: #800000; text-decoration-color: #800000\">│</span> <span style=\"color: #800000; text-decoration-color: #800000; font-style: italic\">[Errno 2] No such file or directory: '/tmp/ipykernel_340086/3794570690.py'</span>                <span style=\"color: #800000; text-decoration-color: #800000\">│</span>\n",
       "<span style=\"color: #800000; text-decoration-color: #800000\">│</span>                                                                                           <span style=\"color: #800000; text-decoration-color: #800000\">│</span>\n",
       "<span style=\"color: #800000; text-decoration-color: #800000\">│</span> <span style=\"color: #bfbf7f; text-decoration-color: #bfbf7f\">/home/apenner/PycharmProjects/zenml/src/zenml/steps/</span><span style=\"color: #808000; text-decoration-color: #808000; font-weight: bold\">base_step.py</span>:<span style=\"color: #0000ff; text-decoration-color: #0000ff\">600</span> in <span style=\"color: #00ff00; text-decoration-color: #00ff00\">__call__</span>          <span style=\"color: #800000; text-decoration-color: #800000\">│</span>\n",
       "<span style=\"color: #800000; text-decoration-color: #800000\">│</span>                                                                                           <span style=\"color: #800000; text-decoration-color: #800000\">│</span>\n",
       "<span style=\"color: #800000; text-decoration-color: #800000\">│</span>   <span style=\"color: #7f7f7f; text-decoration-color: #7f7f7f\">597 │   │   </span>}                                                                           <span style=\"color: #800000; text-decoration-color: #800000\">│</span>\n",
       "<span style=\"color: #800000; text-decoration-color: #800000\">│</span>   <span style=\"color: #7f7f7f; text-decoration-color: #7f7f7f\">598 │   │   </span>                                                                            <span style=\"color: #800000; text-decoration-color: #800000\">│</span>\n",
       "<span style=\"color: #800000; text-decoration-color: #800000\">│</span>   <span style=\"color: #7f7f7f; text-decoration-color: #7f7f7f\">599 │   │   # make sure we have registered materializers for each output</span>                <span style=\"color: #800000; text-decoration-color: #800000\">│</span>\n",
       "<span style=\"color: #800000; text-decoration-color: #800000\">│</span> <span style=\"color: #800000; text-decoration-color: #800000\">❱ </span>600 <span style=\"color: #7f7f7f; text-decoration-color: #7f7f7f\">│   │   </span>materializers = <span style=\"color: #00ffff; text-decoration-color: #00ffff\">self</span>.get_materializers(ensure_complete=<span style=\"color: #0000ff; text-decoration-color: #0000ff\">True</span>)                <span style=\"color: #800000; text-decoration-color: #800000\">│</span>\n",
       "<span style=\"color: #800000; text-decoration-color: #800000\">│</span>   <span style=\"color: #7f7f7f; text-decoration-color: #7f7f7f\">601 │   │   </span>                                                                            <span style=\"color: #800000; text-decoration-color: #800000\">│</span>\n",
       "<span style=\"color: #800000; text-decoration-color: #800000\">│</span>   <span style=\"color: #7f7f7f; text-decoration-color: #7f7f7f\">602 │   │   # Prepare the output artifacts and spec</span>                                     <span style=\"color: #800000; text-decoration-color: #800000\">│</span>\n",
       "<span style=\"color: #800000; text-decoration-color: #800000\">│</span>   <span style=\"color: #7f7f7f; text-decoration-color: #7f7f7f\">603 │   │   </span><span style=\"color: #0000ff; text-decoration-color: #0000ff\">for</span> key, value <span style=\"color: #ff00ff; text-decoration-color: #ff00ff\">in</span> <span style=\"color: #00ffff; text-decoration-color: #00ffff\">self</span>.OUTPUT_SIGNATURE.items():                            <span style=\"color: #800000; text-decoration-color: #800000\">│</span>\n",
       "<span style=\"color: #800000; text-decoration-color: #800000\">│</span>                                                                                           <span style=\"color: #800000; text-decoration-color: #800000\">│</span>\n",
       "<span style=\"color: #800000; text-decoration-color: #800000\">│</span> <span style=\"color: #bfbf7f; text-decoration-color: #bfbf7f\">/home/apenner/PycharmProjects/zenml/src/zenml/steps/</span><span style=\"color: #808000; text-decoration-color: #808000; font-weight: bold\">base_step.py</span>:<span style=\"color: #0000ff; text-decoration-color: #0000ff\">312</span> in <span style=\"color: #00ff00; text-decoration-color: #00ff00\">get_materializers</span> <span style=\"color: #800000; text-decoration-color: #800000\">│</span>\n",
       "<span style=\"color: #800000; text-decoration-color: #800000\">│</span>                                                                                           <span style=\"color: #800000; text-decoration-color: #800000\">│</span>\n",
       "<span style=\"color: #800000; text-decoration-color: #800000\">│</span>   <span style=\"color: #7f7f7f; text-decoration-color: #7f7f7f\">309 │   │   │   │   </span>materializers[output_name] = materializer                           <span style=\"color: #800000; text-decoration-color: #800000\">│</span>\n",
       "<span style=\"color: #800000; text-decoration-color: #800000\">│</span>   <span style=\"color: #7f7f7f; text-decoration-color: #7f7f7f\">310 │   │   │   </span><span style=\"color: #0000ff; text-decoration-color: #0000ff\">else</span>:                                                                   <span style=\"color: #800000; text-decoration-color: #800000\">│</span>\n",
       "<span style=\"color: #800000; text-decoration-color: #800000\">│</span>   <span style=\"color: #7f7f7f; text-decoration-color: #7f7f7f\">311 │   │   │   │   </span><span style=\"color: #0000ff; text-decoration-color: #0000ff\">if</span> ensure_complete:                                                 <span style=\"color: #800000; text-decoration-color: #800000\">│</span>\n",
       "<span style=\"color: #800000; text-decoration-color: #800000\">│</span> <span style=\"color: #800000; text-decoration-color: #800000\">❱ </span>312 <span style=\"color: #7f7f7f; text-decoration-color: #7f7f7f\">│   │   │   │   │   </span><span style=\"color: #0000ff; text-decoration-color: #0000ff\">raise</span> StepInterfaceError(                                       <span style=\"color: #800000; text-decoration-color: #800000\">│</span>\n",
       "<span style=\"color: #800000; text-decoration-color: #800000\">│</span>   <span style=\"color: #7f7f7f; text-decoration-color: #7f7f7f\">313 │   │   │   │   │   │   </span><span style=\"color: #808000; text-decoration-color: #808000\">f\"Unable to find materializer for output \"</span>                  <span style=\"color: #800000; text-decoration-color: #800000\">│</span>\n",
       "<span style=\"color: #800000; text-decoration-color: #800000\">│</span>   <span style=\"color: #7f7f7f; text-decoration-color: #7f7f7f\">314 │   │   │   │   │   │   </span><span style=\"color: #808000; text-decoration-color: #808000\">f\"'{</span>output_name<span style=\"color: #808000; text-decoration-color: #808000\">}' of type `{</span>output_type<span style=\"color: #808000; text-decoration-color: #808000\">}` in step \"</span>         <span style=\"color: #800000; text-decoration-color: #800000\">│</span>\n",
       "<span style=\"color: #800000; text-decoration-color: #800000\">│</span>   <span style=\"color: #7f7f7f; text-decoration-color: #7f7f7f\">315 │   │   │   │   │   │   </span><span style=\"color: #808000; text-decoration-color: #808000\">f\"'{</span><span style=\"color: #00ffff; text-decoration-color: #00ffff\">self</span>.name<span style=\"color: #808000; text-decoration-color: #808000\">}'. Please make sure to either \"</span>               <span style=\"color: #800000; text-decoration-color: #800000\">│</span>\n",
       "<span style=\"color: #800000; text-decoration-color: #800000\">╰───────────────────────────────────────────────────────────────────────────────────────────╯</span>\n",
       "<span style=\"color: #ff0000; text-decoration-color: #ff0000; font-weight: bold\">StepInterfaceError: </span>Unable to find materializer for output <span style=\"color: #008000; text-decoration-color: #008000\">'output'</span> of type `<span style=\"font-weight: bold\">&lt;</span><span style=\"color: #ff00ff; text-decoration-color: #ff00ff; font-weight: bold\">class</span><span style=\"color: #000000; text-decoration-color: #000000\"> </span>\n",
       "<span style=\"color: #008000; text-decoration-color: #008000\">'__main__.MyObj'</span><span style=\"font-weight: bold\">&gt;</span>` in step <span style=\"color: #008000; text-decoration-color: #008000\">'step1'</span>. Please make sure to either explicitly set a materializer \n",
       "for step outputs using `<span style=\"color: #800080; text-decoration-color: #800080; font-weight: bold\">step.with_return_materializers</span><span style=\"font-weight: bold\">(</span><span style=\"color: #808000; text-decoration-color: #808000\">...</span><span style=\"font-weight: bold\">)</span>` or registering a default \n",
       "materializer for specific types by subclassing `BaseMaterializer` and setting its \n",
       "`ASSOCIATED_TYPES` class variable. For more information, visit \n",
       "<span style=\"color: #0000ff; text-decoration-color: #0000ff; text-decoration: underline\">https://docs.zenml.io/guides/index/custom-materializer.</span>\n",
       "</pre>\n"
      ],
      "text/plain": [
       "\u001b[31m╭─\u001b[0m\u001b[31m─────────────────────────── \u001b[0m\u001b[1;31mTraceback \u001b[0m\u001b[1;2;31m(most recent call last)\u001b[0m\u001b[31m ───────────────────────────\u001b[0m\u001b[31m─╮\u001b[0m\n",
       "\u001b[31m│\u001b[0m                                                                                           \u001b[31m│\u001b[0m\n",
       "\u001b[31m│\u001b[0m \u001b[2;33m/tmp/ipykernel_340086/\u001b[0m\u001b[1;33m1509130869.py\u001b[0m:\u001b[94m2\u001b[0m in \u001b[92m<cell line: 2>\u001b[0m                                   \u001b[31m│\u001b[0m\n",
       "\u001b[31m│\u001b[0m                                                                                           \u001b[31m│\u001b[0m\n",
       "\u001b[31m│\u001b[0m \u001b[3;31m[Errno 2] No such file or directory: '/tmp/ipykernel_340086/1509130869.py'\u001b[0m                \u001b[31m│\u001b[0m\n",
       "\u001b[31m│\u001b[0m \u001b[2;33m/home/apenner/PycharmProjects/zenml/src/zenml/pipelines/\u001b[0m\u001b[1;33mbase_pipeline.py\u001b[0m:\u001b[94m378\u001b[0m in \u001b[92mrun\u001b[0m       \u001b[31m│\u001b[0m\n",
       "\u001b[31m│\u001b[0m                                                                                           \u001b[31m│\u001b[0m\n",
       "\u001b[31m│\u001b[0m   \u001b[2m375 \u001b[0m\u001b[2m│   │   \u001b[0m\u001b[96mself\u001b[0m._reset_step_flags()                                                    \u001b[31m│\u001b[0m\n",
       "\u001b[31m│\u001b[0m   \u001b[2m376 \u001b[0m\u001b[2m│   │   \u001b[0m\u001b[96mself\u001b[0m.validate_stack(stack)                                                  \u001b[31m│\u001b[0m\n",
       "\u001b[31m│\u001b[0m   \u001b[2m377 \u001b[0m\u001b[2m│   │   \u001b[0m                                                                            \u001b[31m│\u001b[0m\n",
       "\u001b[31m│\u001b[0m \u001b[31m❱ \u001b[0m378 \u001b[2m│   │   \u001b[0m\u001b[94mreturn\u001b[0m stack.deploy_pipeline(                                               \u001b[31m│\u001b[0m\n",
       "\u001b[31m│\u001b[0m   \u001b[2m379 \u001b[0m\u001b[2m│   │   │   \u001b[0m\u001b[96mself\u001b[0m, runtime_configuration=runtime_configuration                       \u001b[31m│\u001b[0m\n",
       "\u001b[31m│\u001b[0m   \u001b[2m380 \u001b[0m\u001b[2m│   │   \u001b[0m)                                                                           \u001b[31m│\u001b[0m\n",
       "\u001b[31m│\u001b[0m   \u001b[2m381 \u001b[0m                                                                                    \u001b[31m│\u001b[0m\n",
       "\u001b[31m│\u001b[0m                                                                                           \u001b[31m│\u001b[0m\n",
       "\u001b[31m│\u001b[0m \u001b[2;33m/home/apenner/PycharmProjects/zenml/src/zenml/stack/\u001b[0m\u001b[1;33mstack.py\u001b[0m:\u001b[94m361\u001b[0m in \u001b[92mdeploy_pipeline\u001b[0m       \u001b[31m│\u001b[0m\n",
       "\u001b[31m│\u001b[0m                                                                                           \u001b[31m│\u001b[0m\n",
       "\u001b[31m│\u001b[0m   \u001b[2m358 \u001b[0m\u001b[2m│   │   \u001b[0m)                                                                           \u001b[31m│\u001b[0m\n",
       "\u001b[31m│\u001b[0m   \u001b[2m359 \u001b[0m\u001b[2m│   │   \u001b[0mstart_time = time.time()                                                    \u001b[31m│\u001b[0m\n",
       "\u001b[31m│\u001b[0m   \u001b[2m360 \u001b[0m\u001b[2m│   │   \u001b[0m                                                                            \u001b[31m│\u001b[0m\n",
       "\u001b[31m│\u001b[0m \u001b[31m❱ \u001b[0m361 \u001b[2m│   │   \u001b[0mreturn_value = \u001b[96mself\u001b[0m.orchestrator.run_pipeline(                              \u001b[31m│\u001b[0m\n",
       "\u001b[31m│\u001b[0m   \u001b[2m362 \u001b[0m\u001b[2m│   │   │   \u001b[0mpipeline, stack=\u001b[96mself\u001b[0m, runtime_configuration=runtime_configuration       \u001b[31m│\u001b[0m\n",
       "\u001b[31m│\u001b[0m   \u001b[2m363 \u001b[0m\u001b[2m│   │   \u001b[0m)                                                                           \u001b[31m│\u001b[0m\n",
       "\u001b[31m│\u001b[0m   \u001b[2m364 \u001b[0m                                                                                    \u001b[31m│\u001b[0m\n",
       "\u001b[31m│\u001b[0m                                                                                           \u001b[31m│\u001b[0m\n",
       "\u001b[31m│\u001b[0m \u001b[2;33m/home/apenner/PycharmProjects/zenml/src/zenml/orchestrators/local/\u001b[0m\u001b[1;33mlocal_orchestrator.py\u001b[0m:\u001b[94m8\u001b[0m \u001b[31m│\u001b[0m\n",
       "\u001b[31m│\u001b[0m \u001b[94m3\u001b[0m in \u001b[92mrun_pipeline\u001b[0m                                                                         \u001b[31m│\u001b[0m\n",
       "\u001b[31m│\u001b[0m                                                                                           \u001b[31m│\u001b[0m\n",
       "\u001b[31m│\u001b[0m   \u001b[2m 80 \u001b[0m\u001b[2m│   \u001b[0m) -> Any:                                                                       \u001b[31m│\u001b[0m\n",
       "\u001b[31m│\u001b[0m   \u001b[2m 81 \u001b[0m\u001b[2m│   │   \u001b[0m\u001b[33m\"\"\"Runs a pipeline locally\"\"\"\u001b[0m                                               \u001b[31m│\u001b[0m\n",
       "\u001b[31m│\u001b[0m   \u001b[2m 82 \u001b[0m\u001b[2m│   │   \u001b[0m                                                                            \u001b[31m│\u001b[0m\n",
       "\u001b[31m│\u001b[0m \u001b[31m❱ \u001b[0m 83 \u001b[2m│   │   \u001b[0mtfx_pipeline: TfxPipeline = create_tfx_pipeline(pipeline, stack=stack)      \u001b[31m│\u001b[0m\n",
       "\u001b[31m│\u001b[0m   \u001b[2m 84 \u001b[0m\u001b[2m│   │   \u001b[0m                                                                            \u001b[31m│\u001b[0m\n",
       "\u001b[31m│\u001b[0m   \u001b[2m 85 \u001b[0m\u001b[2m│   │   \u001b[0m\u001b[94mif\u001b[0m runtime_configuration \u001b[95mis\u001b[0m \u001b[94mNone\u001b[0m:                                           \u001b[31m│\u001b[0m\n",
       "\u001b[31m│\u001b[0m   \u001b[2m 86 \u001b[0m\u001b[2m│   │   │   \u001b[0mruntime_configuration = RuntimeConfiguration()                          \u001b[31m│\u001b[0m\n",
       "\u001b[31m│\u001b[0m                                                                                           \u001b[31m│\u001b[0m\n",
       "\u001b[31m│\u001b[0m \u001b[2;33m/home/apenner/PycharmProjects/zenml/src/zenml/orchestrators/\u001b[0m\u001b[1;33mutils.py\u001b[0m:\u001b[94m45\u001b[0m in                \u001b[31m│\u001b[0m\n",
       "\u001b[31m│\u001b[0m \u001b[92mcreate_tfx_pipeline\u001b[0m                                                                       \u001b[31m│\u001b[0m\n",
       "\u001b[31m│\u001b[0m                                                                                           \u001b[31m│\u001b[0m\n",
       "\u001b[31m│\u001b[0m   \u001b[2m 42 \u001b[0m) -> tfx_pipeline.Pipeline:                                                         \u001b[31m│\u001b[0m\n",
       "\u001b[31m│\u001b[0m   \u001b[2m 43 \u001b[0m\u001b[2m│   \u001b[0m\u001b[33m\"\"\"Creates a tfx pipeline from a ZenML pipeline.\"\"\"\u001b[0m                             \u001b[31m│\u001b[0m\n",
       "\u001b[31m│\u001b[0m   \u001b[2m 44 \u001b[0m\u001b[2m│   \u001b[0m\u001b[2m# Connect the inputs/outputs of all steps in the pipeline\u001b[0m                       \u001b[31m│\u001b[0m\n",
       "\u001b[31m│\u001b[0m \u001b[31m❱ \u001b[0m 45 \u001b[2m│   \u001b[0mzenml_pipeline.connect(**zenml_pipeline.steps)                                  \u001b[31m│\u001b[0m\n",
       "\u001b[31m│\u001b[0m   \u001b[2m 46 \u001b[0m\u001b[2m│   \u001b[0m                                                                                \u001b[31m│\u001b[0m\n",
       "\u001b[31m│\u001b[0m   \u001b[2m 47 \u001b[0m\u001b[2m│   \u001b[0mtfx_components = [step.component \u001b[94mfor\u001b[0m step \u001b[95min\u001b[0m zenml_pipeline.steps.values()]     \u001b[31m│\u001b[0m\n",
       "\u001b[31m│\u001b[0m   \u001b[2m 48 \u001b[0m                                                                                    \u001b[31m│\u001b[0m\n",
       "\u001b[31m│\u001b[0m                                                                                           \u001b[31m│\u001b[0m\n",
       "\u001b[31m│\u001b[0m \u001b[2;33m/tmp/ipykernel_340086/\u001b[0m\u001b[1;33m3794570690.py\u001b[0m:\u001b[94m14\u001b[0m in \u001b[92mpipe\u001b[0m                                            \u001b[31m│\u001b[0m\n",
       "\u001b[31m│\u001b[0m                                                                                           \u001b[31m│\u001b[0m\n",
       "\u001b[31m│\u001b[0m \u001b[3;31m[Errno 2] No such file or directory: '/tmp/ipykernel_340086/3794570690.py'\u001b[0m                \u001b[31m│\u001b[0m\n",
       "\u001b[31m│\u001b[0m                                                                                           \u001b[31m│\u001b[0m\n",
       "\u001b[31m│\u001b[0m \u001b[2;33m/home/apenner/PycharmProjects/zenml/src/zenml/steps/\u001b[0m\u001b[1;33mbase_step.py\u001b[0m:\u001b[94m600\u001b[0m in \u001b[92m__call__\u001b[0m          \u001b[31m│\u001b[0m\n",
       "\u001b[31m│\u001b[0m                                                                                           \u001b[31m│\u001b[0m\n",
       "\u001b[31m│\u001b[0m   \u001b[2m597 \u001b[0m\u001b[2m│   │   \u001b[0m}                                                                           \u001b[31m│\u001b[0m\n",
       "\u001b[31m│\u001b[0m   \u001b[2m598 \u001b[0m\u001b[2m│   │   \u001b[0m                                                                            \u001b[31m│\u001b[0m\n",
       "\u001b[31m│\u001b[0m   \u001b[2m599 \u001b[0m\u001b[2m│   │   \u001b[0m\u001b[2m# make sure we have registered materializers for each output\u001b[0m                \u001b[31m│\u001b[0m\n",
       "\u001b[31m│\u001b[0m \u001b[31m❱ \u001b[0m600 \u001b[2m│   │   \u001b[0mmaterializers = \u001b[96mself\u001b[0m.get_materializers(ensure_complete=\u001b[94mTrue\u001b[0m)                \u001b[31m│\u001b[0m\n",
       "\u001b[31m│\u001b[0m   \u001b[2m601 \u001b[0m\u001b[2m│   │   \u001b[0m                                                                            \u001b[31m│\u001b[0m\n",
       "\u001b[31m│\u001b[0m   \u001b[2m602 \u001b[0m\u001b[2m│   │   \u001b[0m\u001b[2m# Prepare the output artifacts and spec\u001b[0m                                     \u001b[31m│\u001b[0m\n",
       "\u001b[31m│\u001b[0m   \u001b[2m603 \u001b[0m\u001b[2m│   │   \u001b[0m\u001b[94mfor\u001b[0m key, value \u001b[95min\u001b[0m \u001b[96mself\u001b[0m.OUTPUT_SIGNATURE.items():                            \u001b[31m│\u001b[0m\n",
       "\u001b[31m│\u001b[0m                                                                                           \u001b[31m│\u001b[0m\n",
       "\u001b[31m│\u001b[0m \u001b[2;33m/home/apenner/PycharmProjects/zenml/src/zenml/steps/\u001b[0m\u001b[1;33mbase_step.py\u001b[0m:\u001b[94m312\u001b[0m in \u001b[92mget_materializers\u001b[0m \u001b[31m│\u001b[0m\n",
       "\u001b[31m│\u001b[0m                                                                                           \u001b[31m│\u001b[0m\n",
       "\u001b[31m│\u001b[0m   \u001b[2m309 \u001b[0m\u001b[2m│   │   │   │   \u001b[0mmaterializers[output_name] = materializer                           \u001b[31m│\u001b[0m\n",
       "\u001b[31m│\u001b[0m   \u001b[2m310 \u001b[0m\u001b[2m│   │   │   \u001b[0m\u001b[94melse\u001b[0m:                                                                   \u001b[31m│\u001b[0m\n",
       "\u001b[31m│\u001b[0m   \u001b[2m311 \u001b[0m\u001b[2m│   │   │   │   \u001b[0m\u001b[94mif\u001b[0m ensure_complete:                                                 \u001b[31m│\u001b[0m\n",
       "\u001b[31m│\u001b[0m \u001b[31m❱ \u001b[0m312 \u001b[2m│   │   │   │   │   \u001b[0m\u001b[94mraise\u001b[0m StepInterfaceError(                                       \u001b[31m│\u001b[0m\n",
       "\u001b[31m│\u001b[0m   \u001b[2m313 \u001b[0m\u001b[2m│   │   │   │   │   │   \u001b[0m\u001b[33mf\u001b[0m\u001b[33m\"\u001b[0m\u001b[33mUnable to find materializer for output \u001b[0m\u001b[33m\"\u001b[0m                  \u001b[31m│\u001b[0m\n",
       "\u001b[31m│\u001b[0m   \u001b[2m314 \u001b[0m\u001b[2m│   │   │   │   │   │   \u001b[0m\u001b[33mf\u001b[0m\u001b[33m\"\u001b[0m\u001b[33m'\u001b[0m\u001b[33m{\u001b[0moutput_name\u001b[33m}\u001b[0m\u001b[33m'\u001b[0m\u001b[33m of type `\u001b[0m\u001b[33m{\u001b[0moutput_type\u001b[33m}\u001b[0m\u001b[33m` in step \u001b[0m\u001b[33m\"\u001b[0m         \u001b[31m│\u001b[0m\n",
       "\u001b[31m│\u001b[0m   \u001b[2m315 \u001b[0m\u001b[2m│   │   │   │   │   │   \u001b[0m\u001b[33mf\u001b[0m\u001b[33m\"\u001b[0m\u001b[33m'\u001b[0m\u001b[33m{\u001b[0m\u001b[96mself\u001b[0m.name\u001b[33m}\u001b[0m\u001b[33m'\u001b[0m\u001b[33m. Please make sure to either \u001b[0m\u001b[33m\"\u001b[0m               \u001b[31m│\u001b[0m\n",
       "\u001b[31m╰───────────────────────────────────────────────────────────────────────────────────────────╯\u001b[0m\n",
       "\u001b[1;91mStepInterfaceError: \u001b[0mUnable to find materializer for output \u001b[32m'output'\u001b[0m of type `\u001b[1m<\u001b[0m\u001b[1;95mclass\u001b[0m\u001b[39m \u001b[0m\n",
       "\u001b[32m'__main__.MyObj'\u001b[0m\u001b[1m>\u001b[0m` in step \u001b[32m'step1'\u001b[0m. Please make sure to either explicitly set a materializer \n",
       "for step outputs using `\u001b[1;35mstep.with_return_materializers\u001b[0m\u001b[1m(\u001b[0m\u001b[33m...\u001b[0m\u001b[1m)\u001b[0m` or registering a default \n",
       "materializer for specific types by subclassing `BaseMaterializer` and setting its \n",
       "`ASSOCIATED_TYPES` class variable. For more information, visit \n",
       "\u001b[4;94mhttps://docs.zenml.io/guides/index/custom-materializer.\u001b[0m\n"
      ]
     },
     "metadata": {},
     "output_type": "display_data"
    }
   ],
   "source": [
    "# This will fail - don't worry, we will fix this together\n",
    "pipe(\n",
    "    step1=step1(),\n",
    "    step2=step2()\n",
    ").run()"
   ]
  },
  {
   "cell_type": "markdown",
   "id": "0fe84dcc",
   "metadata": {},
   "source": [
    "As you can see, you are getting a **StepInterfaceError**. Step1 is trying to write its output to the Artifact Store but can't find a Materializer to do so. Let's write one!\n",
    "\n",
    "\n",
    "For Custom Materializers allyou need to do is inherit from the ZenML BaseMaterializer, define the ASSOCIATED_TYPES and implement the two methods (handle_input, handle_return). Make sure to use the zenml fileio for the implementation of the read/write. This ensures that this will work, even when you switch out the Artifact Store at a later point in time."
   ]
  },
  {
   "cell_type": "code",
   "execution_count": 6,
   "id": "016365b7",
   "metadata": {},
   "outputs": [],
   "source": [
    "from zenml.materializers.base_materializer import BaseMaterializer\n",
    "from zenml.io import fileio\n",
    "\n",
    "\n",
    "\n",
    "class MyMaterializer(BaseMaterializer):\n",
    "    \"\"\"Materializer for you data object\"\"\"\n",
    "    # Within the associated types you specify which object this materializer\n",
    "    # is built to handle\n",
    "    ASSOCIATED_TYPES = (MyObj,)\n",
    "    ASSOCIATED_ARTIFACT_TYPES = (DataArtifact,)\n",
    "\n",
    "    def handle_input(self, data_type: Type[MyObj]) -> MyObj:\n",
    "        \"\"\"Read from artifact store\"\"\"\n",
    "        super().handle_input(data_type)\n",
    "        with fileio.open(os.path.join(self.artifact.uri, \"data.txt\"), \"r\") as f:\n",
    "            name = f.read()\n",
    "        return MyObj(name=name)\n",
    "\n",
    "    def handle_return(self, my_obj: MyObj) -> None:\n",
    "        \"\"\"Write to artifact store\"\"\"\n",
    "        super().handle_return(my_obj)\n",
    "        with fileio.open(os.path.join(self.artifact.uri, \"data.txt\"), \"w\") as f:\n",
    "            f.write(my_obj.name)"
   ]
  },
  {
   "cell_type": "markdown",
   "id": "dfff986c",
   "metadata": {},
   "source": [
    "Let's try running our pipeline again, make sure to specify the return materializer for all steps that return the object_type associated with your custom materializer. "
   ]
  },
  {
   "cell_type": "code",
   "execution_count": 7,
   "id": "e39bf803",
   "metadata": {},
   "outputs": [
    {
     "name": "stdout",
     "output_type": "stream",
     "text": [
      "\u001b[1;35mCreating run for pipeline: `\u001b[0m\u001b[33;21mpipe`\u001b[1;35m\u001b[0m\n",
      "\u001b[1;35mCache enabled for pipeline `\u001b[0m\u001b[33;21mpipe`\u001b[1;35m\u001b[0m\n",
      "\u001b[1;35mUsing stack `\u001b[0m\u001b[33;21msecrets_stack2`\u001b[1;35m to run pipeline `\u001b[0m\u001b[33;21mpipe`\u001b[1;35m...\u001b[0m\n",
      "\u001b[1;35mStep `\u001b[0m\u001b[33;21mstep1`\u001b[1;35m has started.\u001b[0m\n",
      "\u001b[1;35mStep `\u001b[0m\u001b[33;21mstep1`\u001b[1;35m has finished in 0.124s.\u001b[0m\n",
      "\u001b[1;35mStep `\u001b[0m\u001b[33;21mstep2`\u001b[1;35m has started.\u001b[0m\n",
      "aria_the_cat\n",
      "\u001b[1;35mStep `\u001b[0m\u001b[33;21mstep2`\u001b[1;35m has finished in 0.088s.\u001b[0m\n",
      "\u001b[1;35mPipeline run `\u001b[0m\u001b[33;21mpipe-01_Apr_22-15_04_05_078985`\u001b[1;35m has finished in 0.223s.\u001b[0m\n"
     ]
    }
   ],
   "source": [
    "pipe(\n",
    "    step1=step1().with_return_materializers(MyMaterializer),\n",
    "    step2=step2()\n",
    ").run()"
   ]
  },
  {
   "cell_type": "markdown",
   "id": "ea09d08b",
   "metadata": {},
   "source": [
    "And voilà, your pipeline is up and running "
   ]
  }
 ],
 "metadata": {
  "jupytext": {
   "cell_metadata_filter": "-all",
   "main_language": "python",
   "notebook_metadata_filter": "-all"
  },
  "kernelspec": {
   "display_name": "Python 3 (ipykernel)",
   "language": "python",
   "name": "python3"
  },
  "language_info": {
   "codemirror_mode": {
    "name": "ipython",
    "version": 3
   },
   "file_extension": ".py",
   "mimetype": "text/x-python",
   "name": "python",
   "nbconvert_exporter": "python",
   "pygments_lexer": "ipython3",
   "version": "3.8.10"
  }
 },
 "nbformat": 4,
 "nbformat_minor": 5
}
